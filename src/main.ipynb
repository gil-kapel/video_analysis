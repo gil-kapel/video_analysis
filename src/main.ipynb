{
 "nbformat": 4,
 "nbformat_minor": 0,
 "metadata": {
  "colab": {
   "provenance": [],
   "gpuType": "T4"
  },
  "kernelspec": {
   "name": "python3",
   "display_name": "Python 3"
  },
  "language_info": {
   "name": "python"
  },
  "accelerator": "GPU"
 },
 "cells": [
  {
   "cell_type": "code",
   "source": [
    "!pip install googletrans==3.1.0a\n",
    "!pip install pytubefix\n",
    "!pip install langdetect\n",
    "!pip install pydub\n",
    "!pip install huggingsound\n",
    "!pip install transformers --upgrade\n",
    "!pip install langcodes\n",
    "!pip install torch torchvision torchaudio\n",
    "from IPython.display import clear_output\n",
    "clear_output()"
   ],
   "metadata": {
    "id": "f5HXtTTl_BLh"
   },
   "execution_count": null,
   "outputs": []
  },
  {
   "cell_type": "code",
   "source": [
    "import torch\n",
    "device = torch.device(\"cuda\" if torch.cuda.is_available() else \"cpu\")"
   ],
   "metadata": {
    "id": "ISYGcbd4KUtS"
   },
   "execution_count": null,
   "outputs": []
  },
  {
   "cell_type": "code",
   "execution_count": null,
   "metadata": {
    "colab": {
     "base_uri": "https://localhost:8080/"
    },
    "id": "gdzNQfjMk1id",
    "outputId": "9f6ef433-7f69-42f0-ff44-b39c701adb2d"
   },
   "outputs": [
    {
     "output_type": "stream",
     "name": "stderr",
     "text": [
      "INFO:huggingsound.speech_recognition.model:Loading model...\n"
     ]
    },
    {
     "output_type": "stream",
     "name": "stdout",
     "text": [
      "Audio downloaded. Transcribing...\n",
      "Using device: cuda\n"
     ]
    },
    {
     "output_type": "stream",
     "name": "stderr",
     "text": [
      "/usr/local/lib/python3.10/dist-packages/transformers/configuration_utils.py:364: UserWarning: Passing `gradient_checkpointing` to a config initialization is deprecated and will be removed in v5 Transformers. Using `model.gradient_checkpointing_enable()` instead, or if you are using the `Trainer` API, pass `gradient_checkpointing=True` in your `TrainingArguments`.\n",
      "  warnings.warn(\n",
      "Some weights of the model checkpoint at jonatasgrosman/wav2vec2-large-xlsr-53-persian were not used when initializing Wav2Vec2ForCTC: ['wav2vec2.encoder.pos_conv_embed.conv.weight_g', 'wav2vec2.encoder.pos_conv_embed.conv.weight_v']\n",
      "- This IS expected if you are initializing Wav2Vec2ForCTC from the checkpoint of a model trained on another task or with another architecture (e.g. initializing a BertForSequenceClassification model from a BertForPreTraining model).\n",
      "- This IS NOT expected if you are initializing Wav2Vec2ForCTC from the checkpoint of a model that you expect to be exactly identical (initializing a BertForSequenceClassification model from a BertForSequenceClassification model).\n",
      "Some weights of Wav2Vec2ForCTC were not initialized from the model checkpoint at jonatasgrosman/wav2vec2-large-xlsr-53-persian and are newly initialized: ['wav2vec2.encoder.pos_conv_embed.conv.parametrizations.weight.original0', 'wav2vec2.encoder.pos_conv_embed.conv.parametrizations.weight.original1']\n",
      "You should probably TRAIN this model on a down-stream task to be able to use it for predictions and inference.\n",
      "/usr/local/lib/python3.10/dist-packages/transformers/tokenization_utils_base.py:1601: FutureWarning: `clean_up_tokenization_spaces` was not set. It will be set to `True` by default. This behavior will be depracted in transformers v4.45, and will be then set to `False` by default. For more details check this issue: https://github.com/huggingface/transformers/issues/31884\n",
      "  warnings.warn(\n",
      "100%|██████████| 1/1 [00:37<00:00, 37.22s/it]"
     ]
    },
    {
     "output_type": "stream",
     "name": "stdout",
     "text": [
      "Transcription complete.\n",
      "جمهوری اسلامی وچهرههای ایانیهایی که خال چس کشور ارفت جلوی اسفارهت شروع کرده شناسایی کردن این خال خطرنا که  تهدید داده میکنه بدای هعملیات تروریستی کریپی داده این حالا کهلیپ شماره دو فاض دوم شناسایی نفرت گره د در چندین کیلی و گروهایه مخت گروهاستون گور چهارم گوره پنجم درست کرد و میگه عملیات برخود با اوامل ایجاد ناامنی برای شهروندان جموری اسلامییران د خارد ات کشو ایام انتخابات ریاسجمرییه موزیک خیلی ترسناکی هم گذاشته بود که من این موزیک و قتع کردم الاه و بهبوزیک قت کرن و میرورو چهرههامن برخی ازین چهرهعارم میشناسم در اروپاوداره تهدیلشون میکنیششنیخب بنین چرار دروادهوسهخانه نگه سوت همه چیز اسمشونو درورده شما ره این ملیشونو برم ساکنه کجاستوو ببی اینجوری اادید ودادخب بدون دونه درعادهماعریاشیرف کرد ان فالهها نام پدر فالا ساکنهونصبت ات دو ستخادمون حسن جفری بوده تویسور عبچها کهل خوبیم حای یهمون تخاقات نمایشی فرمایشیجکنی اسلانیقبللامی جاخسی چخونی اسلامی هستیم ی اعلام کردن نسرات سجارمون و فختنایب قنه جهای هسن جافری بکه من اصل دو ازاریازم باشی دوستی داشمت دیگرنا سالهات که دیگه کاری و هم نداریم دیگه بن از که مایی موازه که ه تین بند خود ه خب  توی اون فزای شدیده چیزایایی هم نداری مس حسن جهوریببین گاف پیشونی سفید همه می شناسن وسه تنم خه بیه ترسوناین  خروب میزا درتون سرویس میکن دیده را میگن پسمیمی ای کاری که داری میکنه میوادرتن اینو بیه ترسونهیعنه ه جوریمنی تو همینم شهافگنی بچهایی که رفتن جعلو اتفارتماند صورتاشونو که مث شما ه دلقکهای حامیه جموری استامیکه دفضای توی تر اس با اکهنت تقلبی میات ک هراتن نپوشوندن که بن هسن جافری یه نت دوزاریازن می شناسند باباین بچه ترسو نیس میزنی دهنتون سرویس مینه وی مثن اواده که اقا مااین شناسایی کردیخقی هتن کهافری همه تو صوئد می شناسنچیش شناسایی کردیاه رفته المان را نمشاه ساکن المان خب ساه جابهجاشده قبلاً تو استوکل باسن با ما بودخب حسن جعفری دیگه یییتویننیب ببی اسم اینارا درآورده حالا برین جلوترلادسی میکنند خوی ایتن ا خود این اقی تو همون روز خودش رفته تو سفارتتون خودشخایش فیلمی گترتو میگیشناسایش کردمه میههنکه روانی بچگونه را میدازنن برم ته خصوریگری منر باشید بتدینو ی بی باشید دتایدیگودیییدیبهییکون جدوکشونسریودونه ایندونه اینارو دروردنمشمنکخب این چجوری شناساه کردین شما اینا که به خودشون ویدیواشون خودشون دارن میدم بیرون که چجوری شناسایشون کردی شما حتی ببین توهی میکنن واجهکان این بن از ابتدای انقلاب اینا واژع استغلال و واژعه بس جا واژه سپاود معمد این واژه تکزیع تلبیره به اینا گاد دادی واج تکزی تلبی رام همی چیو تویی مینمتندیگه مونده بود به تضاراتای اسفهانم بگن اقایاده تکضیک طلبالینم واژ شناسایی رو تویزمرنام میکنن میگی شناسایی کردم ینه که خودشون مه چیزاشون خودشون روکردنشناسایی یعنیاین که یارو نمیخواد خودشو روکن تو بتونی بفرم کی پشتمون عکانهاینا که خود یامس تو اون ترات صورتشو پوشونده باشه بیاد بدنتو سر شما هامیان جموری اسنانی ته بگه اقا اینیکه صورتشرو پشونده اینهاینا که فیلماشونو خودشون گذاشتن رو اینترنت کهتوی اکانهای خودون گذاشتن که چهجوری اینارو شناسای کردی ولا اینا همه موزیکای الچنانی بوده من بودد قدموزیکش اینجوری تننننمتن دب اینم شناسایی کردی مرسنا که همه خودشون دورن شون میدن که جه جوری میگن شناسایی کردی موندمیلا وچهایبیستاز بری بکلاینم شناسای ک این که هرخوش فیلم گرفته بود که خب بیت حالی اینجا مهمه که اینجا باحت پیگیری بشه میگه معنتثراقاز اجراهفازه میدانی برخورد باشیدببینا اگر میخواست چوناین ختهناکه تهتید به ترور داری میکنی این بچهه ونمیگه منتثراغازه اجرگفاض حقوقی برخورد باشید ه نی شما اسامی یناربدید به سفارته به اون کشورا بگی که اقما وسالان سفارت جموری اسلامی اینجا خاز پشم صورتمنو بغوره ولی پشنوصورتمو میخواسته بخورهدیگه تو همون حوضهمهدود شد که وقی از برنامه سازا اینا اق سفارت  ایران در اسبویا میخواد مید دناروفلکنه پشم صورتشرو بقره چی شدماکه میگفتی ن کارب ای به اینا هنش چن که دمانی که مو بهترسی نگیم شاشیریم تو القتشون گه ما مسا ب خودتون قضاوت کنید دیگه اردحسی که انمنه تحدید کردناینعدرحیق دوزه این شاشینن تو حلق اماحوسه این بیشتر شد یه کمتر شدایندیگه قضالتش با شمااین بچها میوام به تسونن ولی برای این تهدید ترویستی میکنند چون میدونن در حوضه که فاضع حقوقی به هیچ جا نمیرسن مننی میگه فاض میدانیه برخورد باشید یه نمیخوان تهدید تروریتی میک این بچهای که حالای اینانم گره دومه گروایی دیگه حس میتونن کلی پاشو در میانن بچهای کهکساشون حص مث حت جفری که میشناسن یا بقیه اینه کستن ه باید اینجا شکایت بکنید شما الان ا هسن جفی بعد بره تو الما  این ویدیو بده اگه ان ویدیور شماها ندارن دوستان بگن که من بشون بگم ز کجا بید بهدست بیارن ایناه اینار تو کانالههایه  خود این جماعت گذاشت و بعد از جمهوری اسلامی شکایت کنید که اقا اینا اومدن اکسای مارو گذاشتن دارن تهدید میکننالبته همونطوری که یادتونسر تو ماج سالاینا گفتر منما تم پشمصورت پوماج سالهایدم نمیشویید بخوریفتید پشم صورت اینارم نمیجورید بخورید اینو جدی بهتون میگناما\n"
     ]
    },
    {
     "output_type": "stream",
     "name": "stderr",
     "text": [
      "\n"
     ]
    }
   ],
   "source": [
    "import os\n",
    "from pytubefix import YouTube\n",
    "from langdetect import detect, detect_langs\n",
    "from pydub import AudioSegment\n",
    "import langcodes\n",
    "from huggingsound import SpeechRecognitionModel\n",
    "\n",
    "\n",
    "def download_youtube_audio(url):\n",
    "    try:\n",
    "        yt = YouTube(url)\n",
    "        video = yt.streams.filter(only_audio=True).first()\n",
    "        if video is None:\n",
    "            raise Exception(\"No audio streams available for this video.\")\n",
    "        out_file = video.download(output_path=\".\")\n",
    "        base, ext = os.path.splitext(out_file)\n",
    "        audio = AudioSegment.from_file(out_file)\n",
    "        os.remove(out_file)\n",
    "\n",
    "        new_file = base + '.wav'\n",
    "        audio.export(new_file, format=\"wav\")\n",
    "        language = detect_langs(yt.title)\n",
    "        return new_file, language[0].lang\n",
    "    except Exception as e:\n",
    "        print(f\"An error occurred: {e}\")\n",
    "        return None, None\n",
    "\n",
    "\n",
    "def transcribe_audio(file_path, language_code):\n",
    "    \"\"\"\n",
    "    Transcribes a .wav audio file into text using a Wav2Vec2 model from Hugging Face.\n",
    "    Args:\n",
    "        file_path (str): Path to the .wav audio file.\n",
    "        language_code (str): Language code (e.g., 'en' for English, 'fr' for French).\n",
    "\n",
    "    Returns:\n",
    "        str: The transcribed text.\n",
    "    \"\"\"\n",
    "    full_lang = langcodes.Language.get(language_code).display_name().lower()\n",
    "    print(f\"Using device: {device}\")\n",
    "    model = SpeechRecognitionModel(f\"jonatasgrosman/wav2vec2-large-xlsr-53-{full_lang}\", device=device)\n",
    "    transcriptions = model.transcribe([file_path])\n",
    "    return transcriptions[0]\n",
    "\n",
    "\n",
    "# youtube_url = input(\"Enter YouTube URL: \")\n",
    "youtube_url = \"https://www.youtube.com/watch?v=WdOPb8YvxZg\"\n",
    "\n",
    "audio_file, lang_code = download_youtube_audio(youtube_url)\n",
    "if audio_file is None:\n",
    "    print(\"Failed to download audio. Exiting.\")\n",
    "\n",
    "print(\"Audio downloaded. Transcribing...\")\n",
    "text = transcribe_audio(audio_file, language_code=lang_code)\n",
    "\n",
    "print(\"Transcription complete.\")\n",
    "print(text['transcription'])\n",
    "os.remove(audio_file)\n",
    "\n",
    "\n"
   ]
  },
  {
   "cell_type": "code",
   "source": [
    "from googletrans import Translator\n",
    "translator = Translator()\n",
    "result = translator.translate(text['transcription'][:3181], src=lang_code, dest='en')\n",
    "en_text = result.text\n",
    "print(en_text)\n"
   ],
   "metadata": {
    "colab": {
     "base_uri": "https://localhost:8080/"
    },
    "id": "f3GRsVKeFMsU",
    "outputId": "35a365f8-b2f6-451f-bf09-e4802a5628ad"
   },
   "execution_count": null,
   "outputs": [
    {
     "output_type": "stream",
     "name": "stdout",
     "text": [
      "The Islamic Republic of Iran and the faces of the people who have left the country in front of the embassy have started to identify this dangerous mole that threatens the beginning of the terrorist operations. Kurdish and says that the operation was aimed at creating insecurity for the citizens of the Islamic Republic of Iran. During the election days of the President of the Republic of Iran, he also played very scary music. Why are you at the door of the house, keep the whistle of everything, their names and their nationalities, where do you live? Where are you? Announcing the blessings of Nasrat Sajarmon and Fakhtanaib Qanejai Hasen Jafari, I want you to be my main friend, I have been friends with you for years, we don't have anything to do anymore. The white forehead is known by everyone, and my body is not scary. They say that they are serving you at the table. They say that they have seen it. What you are doing is not scary. That is the way you are. The children who go forgery are fake and their faces are like you. You come with a fake account, so don't wear it, they know Ben Hasan Jafari, they know a net, the kid is not a coward. He was transferred before, he was with us in Stockel. Well, Hassan Jafari has already named them. Now, go ahead, they are doing it. You are the same, this woman went to your embassy on the same day. Don't be afraid of the data. To these, you gave me the voice of Tekzi, Talbi, Ram, what are you doing? Tell me, Mr. Takzik, they are calling me for identification. Yams should cover his face in that thread, let him come to your head, Hamian Jamuri Esnani, and tell him, sir, that he is covering his face, these are the ones who put their films and themselves on the internet, who put them on their own accounts, how did you recognize this, or this is all Alchanani's music, it was my old music, it is not like this, it is not recognized. You did a good job, they all seem to be far away, that's how they say you identified Mandmila and Chai Bistaz, go to the small town, you know that Harkhosh had taken a video, so it's important to be followed up here, he says to avoid the execution of the field phase, see if he wanted to be threatened with assassination You are doing this to the child and he does not say that you have to deal with legal issues.\n"
     ]
    }
   ]
  },
  {
   "cell_type": "code",
   "source": [
    "from transformers import pipeline\n",
    "\n",
    "nlp = pipeline(\"ner\", aggregation_strategy=\"simple\", device=device)\n",
    "ner_results = nlp(en_text)\n",
    "entities = list(set([entity['word'] for entity in ner_results]))\n",
    "summarizer = pipeline(\"summarization\", model=\"facebook/bart-large-cnn\", device=device)\n",
    "summary = summarizer(en_text, max_length=1000, min_length=1, do_sample=False)[0]['summary_text']\n",
    "clear_output()"
   ],
   "metadata": {
    "id": "riF0Ve3RJH_s"
   },
   "execution_count": null,
   "outputs": []
  },
  {
   "cell_type": "code",
   "source": [
    "!pip install openai==0.27.0 httpx==0.23.2\n",
    "clear_output()"
   ],
   "metadata": {
    "id": "fag7Bli1PN7S"
   },
   "execution_count": null,
   "outputs": []
  },
  {
   "cell_type": "code",
   "source": [
    "import openai\n",
    "\n",
    "openai.api_key = input('Insert your OpenAI API key:\\n')\n",
    "\n",
    "def get_gpt3_answer(context, question):\n",
    "    try:\n",
    "        messages = [\n",
    "            {\"role\": \"system\", \"content\": \"You are a helpful assistant.\"},\n",
    "            {\"role\": \"user\", \"content\": f\"Context: {context}\"},\n",
    "            {\"role\": \"user\", \"content\": f\"Question: {question}\"}\n",
    "        ]\n",
    "\n",
    "        # Make the API request to OpenAI\n",
    "        response = openai.ChatCompletion.create(\n",
    "            model= \"gpt-3.5-turbo\",  # Use the latest model available\n",
    "            messages=messages,\n",
    "            max_tokens=150,         # Adjust token length as required\n",
    "            temperature=0.7,        # Control the creativity of the response\n",
    "            n=1                     # Return one response\n",
    "        )\n",
    "\n",
    "        # Extract the generated answer from the response\n",
    "        answer = response.choices[0].message['content'].strip()\n",
    "        return answer\n",
    "\n",
    "    except Exception as e:\n",
    "        return f\"An error occurred: {e}\"\n",
    "\n",
    "print(get_gpt3_answer(en_text, 'What could be the title of this text?'))\n"
   ],
   "metadata": {
    "colab": {
     "base_uri": "https://localhost:8080/"
    },
    "id": "uaFjMFNoMwRk",
    "outputId": "e1ae0102-b3e7-4e69-8219-a658ef69dd04"
   },
   "execution_count": null,
   "outputs": [
    {
     "output_type": "stream",
     "name": "stdout",
     "text": [
      "Possible titles for the text could include:\n",
      "1. \"Security Threats and Terrorism in Iran: Uncovering the Mole\"\n",
      "2. \"Election Interference and Insecurity in the Islamic Republic of Iran\"\n",
      "3. \"Identifying Terrorist Operations: The Role of Kurdish Extremists\"\n",
      "4. \"Surveillance and Intelligence Gathering at the Iranian Embassy\"\n",
      "5. \"Unveiling the Faces of Threats: An Inside Look at Security Measures\"\n"
     ]
    }
   ]
  }
 ]
}
